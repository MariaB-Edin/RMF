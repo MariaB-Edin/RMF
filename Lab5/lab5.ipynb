{
 "cells": [
  {
   "cell_type": "markdown",
   "metadata": {},
   "source": [
    "# RMF Lab 5 week 10\n",
    "\n",
    "This content is authored by Maria Boutchkova for use in the University of Edinbugh Business School research Methods in Finance course in Spring 2023.\n",
    "\n",
    "Make sure to have covered the material preceeding this Notebook.\n",
    "\n",
    "This notebook covers more advanced commands and functions around:\n",
    "\n",
    "* Fixed effects estimator\n",
    "* Leads and lags\n",
    "* Factor variables\n",
    "\n",
    "The first computational cell below (with In [ ] in front) contains the solution. Go over the command lines, make sure they make sense to you, click inside the cell, it should become surrounded by a green rectangle, press Esc - the rectangle will become blue, now press Shift+Enter - this will execute the cell and produce the results beneath it.\n",
    "While a cell is being executed it shows an asterisk.\n",
    "\n",
    "To remove all output in the notebook and start again, go to the Kernel tab above, select Restart and Clear Output.\n",
    "\n",
    "In this notebook we use the functionality of Stata. If you want to explore its full documetation, see here: https://www.stata.com/bookstore/getting-started-windows/\n",
    "\n",
    "The comment sign in Stata is *\n",
    "\n",
    "Magics are programs provided by stata_kernel that enhance the experience of working with Stata in Jupyter. Magics start with %. \n",
    "The browse magic simply shows us the data in memory (%browse). Magics have to be alone in a cell.\n",
    "\n",
    "The help command allows you to pull stata documentation inside the current notebook, while in regular desktop Stata it opens the Viewer window. Feel free to do this for every command you see used below. "
   ]
  },
  {
   "cell_type": "markdown",
   "metadata": {},
   "source": [
    "## Task 1: Fixed effects estimator\n",
    "\n",
    "In lab5 we are using the exact same data as in lab3&4. Import it using the same command as before (import delimited). Examine the variables see the pdf instructions for lab3 for their definitions."
   ]
  },
  {
   "cell_type": "code",
   "execution_count": null,
   "metadata": {},
   "outputs": [],
   "source": []
  },
  {
   "cell_type": "code",
   "execution_count": null,
   "metadata": {},
   "outputs": [],
   "source": [
    "%browse"
   ]
  },
  {
   "cell_type": "markdown",
   "metadata": {},
   "source": [
    "Task 1.1 We are going to run the OLS regression again to be able to compare to the results to the FE one. Make sure to use eststo clear first and then the prefix qui eststo: orefore the regress command."
   ]
  },
  {
   "cell_type": "code",
   "execution_count": null,
   "metadata": {},
   "outputs": [],
   "source": []
  },
  {
   "cell_type": "markdown",
   "metadata": {},
   "source": [
    "Task 1.2 No we run the exact same regression using the FE estimator. This is done with the command xtreg - and enhanced version of the regress command specifically for panel data (xt stands for cross-sectional and time-series data). To use xt- commands (they ar emeny) we first set the data to be recognised as panel data using xtset panelvar timevar. After this we use xtreg with the option fe to run the FE estimator."
   ]
  },
  {
   "cell_type": "code",
   "execution_count": null,
   "metadata": {
    "scrolled": true
   },
   "outputs": [],
   "source": []
  },
  {
   "cell_type": "markdown",
   "metadata": {},
   "source": [
    "Task 1.3 Now display the results of the two regressions next to each other to compare the coefficients and significance"
   ]
  },
  {
   "cell_type": "code",
   "execution_count": null,
   "metadata": {},
   "outputs": [],
   "source": []
  },
  {
   "cell_type": "markdown",
   "metadata": {},
   "source": [
    "## Task 2: Leads and lags"
   ]
  },
  {
   "cell_type": "markdown",
   "metadata": {},
   "source": [
    "We use the convelient notation l. and f. before the variable name to tell stata that we want a lag or a lead. For these to be available the data should be already xtset or tsset (for time-series data). Lets run the original OLS regression adding one lag and one lead of CEO pay and again use esttab to the show the three sets of results."
   ]
  },
  {
   "cell_type": "code",
   "execution_count": null,
   "metadata": {},
   "outputs": [],
   "source": []
  },
  {
   "cell_type": "markdown",
   "metadata": {},
   "source": [
    "## Task 3 Factor variables"
   ]
  },
  {
   "cell_type": "markdown",
   "metadata": {},
   "source": [
    "We now shall include year dummies to the three models. Again Stata has a very convenient way to do this with i. in front of the variable name. We simply add i.fyear to the list of regressors. Rerun all 3 models as above adding i.fyear and then esttab but this time using results.rtf and the options ar2 (to report adjusted r-sq) and replace to see the results in a text file since 6 columns do not fit well in the notebook screen."
   ]
  },
  {
   "cell_type": "code",
   "execution_count": null,
   "metadata": {},
   "outputs": [],
   "source": []
  },
  {
   "cell_type": "markdown",
   "metadata": {},
   "source": [
    "Task 2.3 Download the results.rtf file on your machine, adjust the column widths to fit all 6 on one page and examine the differences accross models. Make sure you understand why some of the year dummies cannot be estimated and why the number of observations is different."
   ]
  }
 ],
 "metadata": {
  "kernelspec": {
   "display_name": "Stata",
   "language": "stata",
   "name": "stata"
  },
  "language_info": {
   "codemirror_mode": "stata",
   "file_extension": ".do",
   "mimetype": "text/x-stata",
   "name": "stata"
  }
 },
 "nbformat": 4,
 "nbformat_minor": 4
}
