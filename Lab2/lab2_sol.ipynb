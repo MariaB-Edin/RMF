{
 "cells": [
  {
   "cell_type": "markdown",
   "metadata": {},
   "source": [
    "# RMF Lab 2 week 04 Solutions\n",
    "\n",
    "This content is authored by Maria Boutchkova for use in the University of Edinbugh Business School research Methods in Finance course in Spring 2023.\n",
    "\n",
    "Make sure to have covered the material preceeding this Notebook. Detailed explanations in the assigned textbook chapters.\n",
    "\n",
    "This notebook covers more advanced commands and functions around:\n",
    "\n",
    "* Pairwise correlations\n",
    "* Matrix scatterplots\n",
    "* Running regressions\n",
    "\n",
    "The first computational cell below (with In [ ] in front) contains the solution. Go over the command lines, make sure they make sense to you, click inside the cell, it should become surrounded by a green rectangle, press Esc - the rectangle will become blue, now press Shift+Enter - this will execute the cell and produce the results beneath it.\n",
    "While a cell is being executed it shows an asterisk.\n",
    "\n",
    "To remove all output in the notebook and start again, go to the Kernel tab above, select Restart and Clear Output.\n",
    "\n",
    "In this notebook we use the functionality of Stata. If you want to explore its full documetation, see here: https://www.stata.com/bookstore/getting-started-windows/\n",
    "\n",
    "The comment sign in Stata is *\n",
    "\n",
    "Magics are programs provided by stata_kernel that enhance the experience of working with Stata in Jupyter. Magics start with %. \n",
    "The browse magic simply shows us the data in memory (%browse).\n",
    "\n",
    "The help command allows you to pull stata documentation inside the current notebook, while in regular desktop Stata it opens the Viewer window. Feel free to do this for every command you see used below. "
   ]
  },
  {
   "cell_type": "markdown",
   "metadata": {},
   "source": [
    "## Task 1: Describe, Tabulate and Summary statistics for M&A data\n",
    "\n",
    "Import the data for this lab using the same command as before (import delimited)"
   ]
  },
  {
   "cell_type": "code",
   "execution_count": null,
   "metadata": {},
   "outputs": [],
   "source": [
    "import delimited ComputerLabSession_Dataset_1.csv, varn(1) clear"
   ]
  },
  {
   "attachments": {},
   "cell_type": "markdown",
   "metadata": {},
   "source": [
    "Task 1.1 Install the user-written command winsor and winsorise the variables lnceopay l1_lnta l1_roa"
   ]
  },
  {
   "cell_type": "code",
   "execution_count": null,
   "metadata": {},
   "outputs": [],
   "source": [
    "ssc install winsor\n",
    "winsor lnceopay, gen(lnceopay_w) p(0.01)\n",
    "winsor l1_lnta, gen(l1_lnta_w) p(0.01)\n",
    "winsor l1_roa, gen(l1_roa_w) p(0.01)"
   ]
  },
  {
   "cell_type": "markdown",
   "metadata": {},
   "source": [
    "Task 1.1a (Advanced) Drop the above winsorised variables and winsorise them again usning a loop"
   ]
  },
  {
   "cell_type": "code",
   "execution_count": null,
   "metadata": {
    "scrolled": true
   },
   "outputs": [],
   "source": [
    "foreach var in lnceopay l1_lnta l1_roa {\n",
    "winsor `var’, gen(`var’_w) p(0.01)\n",
    "}"
   ]
  },
  {
   "attachments": {},
   "cell_type": "markdown",
   "metadata": {},
   "source": [
    "Task 1.2 Produce pairwise correlations among the three winsorised variables"
   ]
  },
  {
   "cell_type": "code",
   "execution_count": null,
   "metadata": {},
   "outputs": [],
   "source": [
    "pwcorr lnceopay_w l1_lnta_w l1_roa_w"
   ]
  },
  {
   "cell_type": "markdown",
   "metadata": {},
   "source": [
    "Task 1.3 Produce all pair-wise scatter plots among the three winsorised variables (the command is graph matrix, the option half removes the mirror image along the diagonal - try it with and without the option half)"
   ]
  },
  {
   "cell_type": "code",
   "execution_count": null,
   "metadata": {},
   "outputs": [],
   "source": [
    "graph matrix lnceopay_w l1_lnta_w l1_roa_w, half"
   ]
  },
  {
   "cell_type": "markdown",
   "metadata": {},
   "source": [
    "Task 1.4 Produce the same matrix scatter plots as above but on the non-winsorised variables - compare the two and note the effect of winsorising."
   ]
  },
  {
   "cell_type": "code",
   "execution_count": null,
   "metadata": {},
   "outputs": [],
   "source": [
    "graph matrix lnceopay l1_lnta l1_roa, half"
   ]
  },
  {
   "cell_type": "markdown",
   "metadata": {},
   "source": [
    "## Task 2: Mutiple regression analysis"
   ]
  },
  {
   "cell_type": "markdown",
   "metadata": {},
   "source": [
    "Task 2.1 Regress CEO pay (lnceopay_w) on firm performance measured by ROA (l1_roa_w), while controlling for firm size measured by ln(Total Assets) (l1_lnta_w)."
   ]
  },
  {
   "cell_type": "code",
   "execution_count": null,
   "metadata": {},
   "outputs": [],
   "source": [
    "regress lnceopay_w l1_roa_w l1_lnta_w"
   ]
  },
  {
   "cell_type": "markdown",
   "metadata": {},
   "source": [
    "Task 2.2 Run the same regression while controlling for possible heteroskedasticity."
   ]
  },
  {
   "cell_type": "code",
   "execution_count": null,
   "metadata": {},
   "outputs": [],
   "source": [
    "regress lnceopay_w l1_roa_w l1_lnta_w, vce(robust)"
   ]
  },
  {
   "cell_type": "markdown",
   "metadata": {},
   "source": [
    "## Task 3: Install and use esttab (part of estout)"
   ]
  },
  {
   "cell_type": "markdown",
   "metadata": {},
   "source": [
    "Task 3.1 Install the user-written suite of commands estout to produce publishable quality regression tables"
   ]
  },
  {
   "cell_type": "code",
   "execution_count": null,
   "metadata": {
    "scrolled": true
   },
   "outputs": [],
   "source": [
    "ssc install estout"
   ]
  },
  {
   "cell_type": "markdown",
   "metadata": {},
   "source": [
    "Task 3.2 Clear any existing estimates stored in memory using eststo clear. Run our two regressions above once again but with the prefix eststo: to store the regression results in stata's memory so that estout can format them "
   ]
  },
  {
   "cell_type": "code",
   "execution_count": null,
   "metadata": {},
   "outputs": [],
   "source": [
    "eststo clear\n",
    "eststo: regress lnceopay_w l1_roa_w l1_lnta_w\n",
    "eststo: regress lnceopay_w l1_roa_w l1_lnta_w, vce(robust)"
   ]
  },
  {
   "cell_type": "markdown",
   "metadata": {},
   "source": [
    "Task 3.3 Produce a nice table of the two regression results next to each other for ease of comparison using the command esttab"
   ]
  },
  {
   "cell_type": "code",
   "execution_count": null,
   "metadata": {},
   "outputs": [],
   "source": [
    "esttab"
   ]
  },
  {
   "cell_type": "markdown",
   "metadata": {},
   "source": [
    "## Task 4: Adding one more control variable and comparing results"
   ]
  },
  {
   "cell_type": "markdown",
   "metadata": {},
   "source": [
    "Task 4.1 Let us also control for CEO duality (the CEO also serving as Chairman of the Board of Directors) (l1_ceochair). Clear any existing estimates stored in memory using eststo clear. Run the two regressions with and without controlling for duality  with the prefix qui eststo: and correct for heteroskedasticity\n",
    "Do we need to worry about winsorising CEO duality?"
   ]
  },
  {
   "cell_type": "code",
   "execution_count": null,
   "metadata": {},
   "outputs": [],
   "source": [
    "eststo clear\n",
    "qui eststo: regress lnceopay_w l1_roa_w l1_lnta_w, vce(robust)\n",
    "qui eststo: regress lnceopay_w l1_roa_w l1_lnta_w l1_ceochair, vce(robust)"
   ]
  },
  {
   "cell_type": "markdown",
   "metadata": {},
   "source": [
    "Task 4.2 Produce a nice table of the two regression results next to each other for ease of comparison using the command esttab"
   ]
  },
  {
   "cell_type": "code",
   "execution_count": null,
   "metadata": {},
   "outputs": [],
   "source": [
    "esttab"
   ]
  },
  {
   "cell_type": "markdown",
   "metadata": {},
   "source": [
    "Task 4.2a (Advanced) Run esttab with options to relabel the intercept coefficient using the option varlabels(\\_cons \"Intercept\"), use commas in reporting the number of observations and add adjusted R-sq beneath N with the option stats(N r2_a, label(\"Obs\" \"Adj. R-sq\") fmt(%9.0fc 3))"
   ]
  },
  {
   "cell_type": "code",
   "execution_count": null,
   "metadata": {},
   "outputs": [],
   "source": [
    "esttab, varlabels(_cons \"Intercept\") stats(N r2_a, label(\"Obs\" \"Adj. R-sq\") fmt(%9.0fc 3))"
   ]
  },
  {
   "cell_type": "markdown",
   "metadata": {},
   "source": [
    "Add as many code cells below (using the menu Insert above or by pressing the letter B when the current cell is blue) to pull help documentation and try other options or adding other controls to the regression and comparing results."
   ]
  },
  {
   "cell_type": "code",
   "execution_count": null,
   "metadata": {},
   "outputs": [],
   "source": [
    "help esttab"
   ]
  }
 ],
 "metadata": {
  "kernelspec": {
   "display_name": "Stata",
   "language": "stata",
   "name": "stata"
  },
  "language_info": {
   "codemirror_mode": "stata",
   "file_extension": ".do",
   "mimetype": "text/x-stata",
   "name": "stata"
  }
 },
 "nbformat": 4,
 "nbformat_minor": 4
}
