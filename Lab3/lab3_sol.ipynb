{
 "cells": [
  {
   "cell_type": "markdown",
   "metadata": {},
   "source": [
    "# RMF Lab 3 week 06 Solutions\n",
    "\n",
    "This content is authored by Maria Boutchkova for use in the University of Edinbugh Business School research Methods in Finance course in Spring 2023.\n",
    "\n",
    "Make sure to have covered the material preceeding this Notebook. This notebook goes with the pdf document lab3_instr.pdf\n",
    "\n",
    "This notebook covers more advanced commands and functions around:\n",
    "\n",
    "* Dealing with outliers\n",
    "* Scatterplots\n",
    "* Running regressions robust to outliers\n",
    "\n",
    "The first computational cell below (with In [ ] in front) contains the solution. Go over the command lines, make sure they make sense to you, click inside the cell, it should become surrounded by a green rectangle, press Esc - the rectangle will become blue, now press Shift+Enter - this will execute the cell and produce the results beneath it.\n",
    "While a cell is being executed it shows an asterisk.\n",
    "\n",
    "To remove all output in the notebook and start again, go to the Kernel tab above, select Restart and Clear Output.\n",
    "\n",
    "In this notebook we use the functionality of Stata. If you want to explore its full documetation, see here: https://www.stata.com/bookstore/getting-started-windows/\n",
    "\n",
    "The comment sign in Stata is *\n",
    "\n",
    "Magics are programs provided by stata_kernel that enhance the experience of working with Stata in Jupyter. Magics start with %. \n",
    "The browse magic simply shows us the data in memory (%browse).\n",
    "\n",
    "The help command allows you to pull stata documentation inside the current notebook, while in regular desktop Stata it opens the Viewer window. Feel free to do this for every command you see used below. "
   ]
  },
  {
   "cell_type": "markdown",
   "metadata": {},
   "source": [
    "## Task 1: Read in data and produce scatterplots\n",
    "\n",
    "Import the data for this lab using the same command as before (import delimited). Examine the variables see the pdf instructions for their definitions."
   ]
  },
  {
   "cell_type": "code",
   "execution_count": null,
   "metadata": {},
   "outputs": [],
   "source": [
    "import delimited BoardGenderPanel.csv, varn(1) clear"
   ]
  },
  {
   "cell_type": "code",
   "execution_count": null,
   "metadata": {},
   "outputs": [],
   "source": [
    "%browse"
   ]
  },
  {
   "cell_type": "markdown",
   "metadata": {},
   "source": [
    "Task 1.1 Drop the logged (starting with ln) variables for the purposes of dealing with outliers. The command is drop and the way we tell stata: “drop all variables starting with ln” is: drop ln*"
   ]
  },
  {
   "cell_type": "code",
   "execution_count": null,
   "metadata": {},
   "outputs": [],
   "source": [
    "drop ln*"
   ]
  },
  {
   "cell_type": "markdown",
   "metadata": {},
   "source": [
    "Task 1.2 Now we are going to use a trick to keep only the observations that have no missing data in all the variables we have in memory. It involves running a regression on all variables with the prefix quietly (so as not to clutter the screen with pages of output): qui reg roa - ceopay ceopay (all numeric variables starting with roa and ending with ceopay that way they are ordered in the data). Then we are going to tell stata to keep only the observations that were used in the regression we just ran above – which of course all have non-missing data in all variables: keep if e(sample)"
   ]
  },
  {
   "cell_type": "code",
   "execution_count": null,
   "metadata": {
    "scrolled": true
   },
   "outputs": [],
   "source": [
    "qui reg roa - ceopay\n",
    "keep if e(sample)"
   ]
  },
  {
   "cell_type": "markdown",
   "metadata": {},
   "source": [
    "Task 1.3 We will employ the useful unab command as follows: unab fin_vars: roa – rd_a and then we will display the contents of the container fin_vars by typing: display \"`fin_vars'\""
   ]
  },
  {
   "cell_type": "code",
   "execution_count": null,
   "metadata": {
    "scrolled": true
   },
   "outputs": [],
   "source": [
    "unab fin_vars: roa - rd_a\n",
    "di \"`fin_vars'\""
   ]
  },
  {
   "cell_type": "markdown",
   "metadata": {},
   "source": [
    "Task 1.4 No we do the same for the board variables bgen - ceopay"
   ]
  },
  {
   "cell_type": "code",
   "execution_count": null,
   "metadata": {},
   "outputs": [],
   "source": [
    "unab bd_vars: bgen - ceopay\n",
    "di \"`bd_vars'\""
   ]
  },
  {
   "cell_type": "markdown",
   "metadata": {},
   "source": [
    "Task 1.4 Produce scatter plots for all variables (financial and board-related) with respect to firm size, proxied by total assets (ta). To do this efficiently in a few command lines, we will use a local macro list utility, i.e utility for manipulating macro lists. First we repeat the declarations of fin_vars and db_vars from tasks 1.3 and 1.4 because local macros exist only while a chunk of code is running and they disappear once it has run. Then we save the variable name ta in a local macro called drop: local drop ta, then we will make anew container named fin_no_ta containing all financial variables without ta: local fin_no_ta: list fin_vars - ta. Last, we produce the scatterplots in a loop over the two containers vars_no_ta and bd_vars:\n",
    "<br>\n",
    "<code>foreach v of local vars_no_ta {</code>\n",
    "<br>\n",
    "<code>scatter ta `v', name(fin_`v', replace)<code>\n",
    "<code>}"
   ]
  },
  {
   "cell_type": "code",
   "execution_count": null,
   "metadata": {},
   "outputs": [],
   "source": [
    "unab fin_vars: roa - rd_a\n",
    "unab bd_vars: bgen - ceopay\n",
    "local drop ta\n",
    "local vars_no_ta: list fin_vars - drop\n",
    "di \"`vars_no_ta'\"\n",
    "\n",
    "foreach v of local vars_no_ta {\n",
    "scatter ta `v', name(fin_`v', replace)\n",
    "}\n",
    "\n",
    "foreach v of local bd_vars {\n",
    "scatter ta `v', name(bd_`v', replace)\n",
    "}"
   ]
  },
  {
   "cell_type": "markdown",
   "metadata": {},
   "source": [
    "## Task 2: Outlier robust regression"
   ]
  },
  {
   "cell_type": "markdown",
   "metadata": {},
   "source": [
    "Task 2.1 Generate the two logged variables lnta and lnceopay that we dropped."
   ]
  },
  {
   "cell_type": "code",
   "execution_count": null,
   "metadata": {},
   "outputs": [],
   "source": [
    "gen lnTA = ln(ta)\n",
    "gen lnCEOPay = ln(ceopay)"
   ]
  },
  {
   "cell_type": "markdown",
   "metadata": {},
   "source": [
    "Task 2.2 Declare the two macros of fin and board-related variables as in 1.4 and in addition drop the variable ceopay from the bd_vars list as we did with ta in 1.4. And drop both ta and tobinq from fin_vars since tobinq will be our dependent variable and has to be first in the regress command."
   ]
  },
  {
   "cell_type": "code",
   "execution_count": null,
   "metadata": {},
   "outputs": [],
   "source": [
    "unab fin_vars: roa - rd_a\n",
    "unab bd_vars: bgen - ceopay\n",
    "local drop ta tobinq\n",
    "local fin_no_ta_tq: list fin_vars - drop\n",
    "local drop ceopay\n",
    "local bd_no_pay: list bd_vars - drop\n",
    "eststo clear\n",
    "qui eststo: rreg tobinq lnTA lnCEOPay `fin_no_ta_tq' `bd_no_pay', genwt(outlier_weight)\n",
    "qui eststo: reg tobinq lnTA lnCEOPay `fin_no_ta_tq' `bd_no_pay', vce(cluster gvkey)"
   ]
  },
  {
   "cell_type": "markdown",
   "metadata": {},
   "source": [
    "Task 2.3 Report the resutls of the two regressions next to each other to be able to compare the results as we did in lab2. The following options are useful to make it look more informative: se s(N r2_a, label(\"Obs\" \"R-sq\") fmt(%9.0fc 3 )) mtitles (\"Heterosk-robust\" \"Outlier-robust\") star(* 0.1 ** 0.05 *** 0.01) varlabels(\\_cons \"Intercept\")"
   ]
  },
  {
   "cell_type": "code",
   "execution_count": null,
   "metadata": {},
   "outputs": [],
   "source": [
    "esttab , se s(N r2_a, label(\"Obs\" \"R-sq\") fmt(%9.0fc 3 )) mtitles (\"Heterosk-robust\" \"Outlier-robust\") star(* 0.1 ** 0.05 *** 0.01) varlabels(_cons \"Intercept\")"
   ]
  }
 ],
 "metadata": {
  "kernelspec": {
   "display_name": "Stata",
   "language": "stata",
   "name": "stata"
  },
  "language_info": {
   "codemirror_mode": "stata",
   "file_extension": ".do",
   "mimetype": "text/x-stata",
   "name": "stata"
  }
 },
 "nbformat": 4,
 "nbformat_minor": 4
}
