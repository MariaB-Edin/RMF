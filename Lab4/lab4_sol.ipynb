{
 "cells": [
  {
   "cell_type": "markdown",
   "metadata": {},
   "source": [
    "# RMF Lab 4 week 08 Solutions\n",
    "\n",
    "This content is authored by Maria Boutchkova for use in the University of Edinbugh Business School research Methods in Finance course in Spring 2023.\n",
    "\n",
    "Make sure to have covered the material preceeding this Notebook. This notebook goes with the pdf document lab3_instr.pdf\n",
    "\n",
    "This notebook covers more advanced commands and functions around:\n",
    "\n",
    "* Dealing with outliers\n",
    "* Scatterplots\n",
    "* Running regressions robust to outliers\n",
    "\n",
    "The first computational cell below (with In [ ] in front) contains the solution. Go over the command lines, make sure they make sense to you, click inside the cell, it should become surrounded by a green rectangle, press Esc - the rectangle will become blue, now press Shift+Enter - this will execute the cell and produce the results beneath it.\n",
    "While a cell is being executed it shows an asterisk.\n",
    "\n",
    "To remove all output in the notebook and start again, go to the Kernel tab above, select Restart and Clear Output.\n",
    "\n",
    "In this notebook we use the functionality of Stata. If you want to explore its full documetation, see here: https://www.stata.com/bookstore/getting-started-windows/\n",
    "\n",
    "The comment sign in Stata is *\n",
    "\n",
    "Magics are programs provided by stata_kernel that enhance the experience of working with Stata in Jupyter. Magics start with %. \n",
    "The browse magic simply shows us the data in memory (%browse).\n",
    "\n",
    "The help command allows you to pull stata documentation inside the current notebook, while in regular desktop Stata it opens the Viewer window. Feel free to do this for every command you see used below. "
   ]
  },
  {
   "cell_type": "markdown",
   "metadata": {},
   "source": [
    "## Task 1: RESET test\n",
    "\n",
    "In lab4 we are using the exact same data as in lab3. Import it using the same command as before (import delimited). Examine the variables see the pdf instructions for lab3 for their definitions."
   ]
  },
  {
   "cell_type": "code",
   "execution_count": null,
   "metadata": {},
   "outputs": [],
   "source": [
    "import delimited BoardGenderPanel.csv, varn(1) clear"
   ]
  },
  {
   "cell_type": "code",
   "execution_count": null,
   "metadata": {},
   "outputs": [],
   "source": [
    "%browse"
   ]
  },
  {
   "cell_type": "markdown",
   "metadata": {},
   "source": [
    "Task 1.1 We are going to take all the necessary commands from lab3 to quickly run the heteroskedasticity-robust regression. Start with dropping the already existing ln* vars and generate the ones we need once more."
   ]
  },
  {
   "cell_type": "code",
   "execution_count": null,
   "metadata": {},
   "outputs": [],
   "source": [
    "drop ln*\n",
    "gen lnTA = ln(ta)\n",
    "gen lnCEOPay = ln(ceopay)\n",
    "unab fin_vars: roa - rd_a\n",
    "unab bd_vars: bgen - ceopay\n",
    "local drop ta tobinq\n",
    "local fin_no_ta_tq: list fin_vars - drop\n",
    "local drop ceopay\n",
    "local bd_no_pay: list bd_vars - drop\n",
    "eststo clear\n",
    "qui eststo: reg tobinq lnTA lnCEOPay `fin_no_ta_tq' `bd_no_pay', vce(cluster gvkey)"
   ]
  },
  {
   "cell_type": "markdown",
   "metadata": {},
   "source": [
    "Task 1.2 The stata command that computes the RESET test is called estat ovtest. First run it – it has to be done immediately after the regression to which we want it to refer. Then pull the documentation of the estat ovtest command. Note how the test output and the documentation talks about omitted variables – which is imprecise. Remember the RESET test cannot test for omitted variables in general, these is no such statistical test. The RESET test only suggests a different functional form of some x-s might be better."
   ]
  },
  {
   "cell_type": "code",
   "execution_count": null,
   "metadata": {
    "scrolled": true
   },
   "outputs": [],
   "source": [
    "estat ovtest"
   ]
  },
  {
   "cell_type": "code",
   "execution_count": null,
   "metadata": {},
   "outputs": [],
   "source": [
    "help estat ovtest"
   ]
  },
  {
   "cell_type": "markdown",
   "metadata": {},
   "source": [
    "## Task 2: Summary stats"
   ]
  },
  {
   "cell_type": "markdown",
   "metadata": {},
   "source": [
    "Task 2.1 Save the raw variables involved in the regression in locals and produce summary stats for them using the command tabstat with the option stat(mean sd min median max n). Remember the trick from lab3 on how to keep only the observations that were involved in the regression that was just run. Use the code cell above to check the documentation for tabstat and see what the option means."
   ]
  },
  {
   "cell_type": "code",
   "execution_count": null,
   "metadata": {},
   "outputs": [],
   "source": [
    "keep if e(sample)\n",
    "unab fin_vars: roa - rd_a\n",
    "unab bd_vars: bgen - ceopay\n",
    "tabstat `fin_vars' `bd_vars', stat(mean sd min median max n) "
   ]
  },
  {
   "cell_type": "markdown",
   "metadata": {},
   "source": [
    "Task 2.2 Now produce the same summary stats for the two log-transformed variables involved in the regression."
   ]
  },
  {
   "cell_type": "code",
   "execution_count": null,
   "metadata": {},
   "outputs": [],
   "source": [
    "tabstat lnTA lnCEOPay, stat(mean sd min median max n) "
   ]
  },
  {
   "cell_type": "markdown",
   "metadata": {},
   "source": [
    "Task 2.3 Let us examine some of the outliers using the command list lpermno gvkey datadate ceopay if ceopay < .001. We will then lookup these cases in CapitalIQ."
   ]
  },
  {
   "cell_type": "code",
   "execution_count": null,
   "metadata": {},
   "outputs": [],
   "source": [
    "list lpermno gvkey datadate ceopay if ceopay < .001"
   ]
  },
  {
   "cell_type": "code",
   "execution_count": null,
   "metadata": {},
   "outputs": [],
   "source": []
  }
 ],
 "metadata": {
  "kernelspec": {
   "display_name": "Stata",
   "language": "stata",
   "name": "stata"
  },
  "language_info": {
   "codemirror_mode": "stata",
   "file_extension": ".do",
   "mimetype": "text/x-stata",
   "name": "stata"
  }
 },
 "nbformat": 4,
 "nbformat_minor": 4
}
