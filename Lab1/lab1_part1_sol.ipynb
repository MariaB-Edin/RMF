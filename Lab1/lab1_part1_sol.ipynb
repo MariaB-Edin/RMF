{
 "cells": [
  {
   "attachments": {},
   "cell_type": "markdown",
   "metadata": {},
   "source": [
    "# RMF Lab 1 week 02 Part 1 Solutions\n",
    "\n",
    "This content is authored by Maria Boutchkova for use in the University of Edinbugh Business School research Methods in Finance course in Spring 2023.\n",
    "\n",
    "Make sure to have covered the material preceeding this Notebook. Detailed explanations in the assigned textbook chapters.\n",
    "\n",
    "This notebook covers:\n",
    "\n",
    "* Importing data and Summary statistics in Stata\n",
    "* Generating variables\n",
    "* Running regressions\n",
    "\n",
    "The first computational cell below (with In [ ] in front) contains the solution. Go over the command lines, make sure they make sense to you, click inside the cell, it should become surrounded by a green rectangle, press Esc - the rectangle will become blue, now press Shift+Enter - this will execute the cell and produce the results beneath it.\n",
    "While a cell is being executed it shows an asterisk \n",
    "\n",
    "To remove all output in the notebook and start again, go to the Kernel tab above, select Restart and Clear Output.\n",
    "\n",
    "In this notebook we use the functionality of Stata. If you want to explore its full documetation, see here: https://www.stata.com/bookstore/getting-started-windows/\n",
    "\n",
    "The comment sign in Stata is *"
   ]
  },
  {
   "cell_type": "raw",
   "metadata": {},
   "source": [
    "We are now going to use a so called magic.\n",
    "\n",
    "Magics are programs provided by stata_kernel that enhance the experience of working with Stata in Jupyter.\n",
    "\n",
    "Magics start with %.\n",
    "\n",
    "The browse magic simply shows us the data in memory."
   ]
  },
  {
   "cell_type": "code",
   "execution_count": null,
   "metadata": {},
   "outputs": [],
   "source": [
    "%browse"
   ]
  },
  {
   "cell_type": "raw",
   "metadata": {},
   "source": [
    "help allows you to pull stata documentation inside the current notebook, while in regular desktop Stata it opens the Viewer window. Feel free to do this for every command you see used below. Now ask for help on the command import delimited"
   ]
  },
  {
   "cell_type": "code",
   "execution_count": null,
   "metadata": {},
   "outputs": [],
   "source": [
    "help import delimited"
   ]
  },
  {
   "cell_type": "code",
   "execution_count": null,
   "metadata": {},
   "outputs": [],
   "source": [
    "* havng reminded yourself of the syntax of import delimited, now issue it to read in ComputerLabSession_Dataset_1.csv\n",
    "import delimited ComputerLabSession_Dataset_1.csv, varn(1) clear"
   ]
  },
  {
   "cell_type": "markdown",
   "metadata": {},
   "source": [
    "# Solved Problem: Describe, Tabulate and Summary statistics\n",
    "\n",
    "Now that our data is imported and ready for use let us produce some summary stats."
   ]
  },
  {
   "cell_type": "code",
   "execution_count": null,
   "metadata": {},
   "outputs": [],
   "source": [
    "* describe the loaded data to see the variable types\n",
    "describe"
   ]
  },
  {
   "cell_type": "code",
   "execution_count": null,
   "metadata": {
    "scrolled": true
   },
   "outputs": [],
   "source": [
    "* summary stats for all vars\n",
    "sum"
   ]
  },
  {
   "cell_type": "code",
   "execution_count": null,
   "metadata": {},
   "outputs": [],
   "source": [
    "* summary stats for ROA and CEOpay\n",
    "sum l1_roa ceopay"
   ]
  },
  {
   "cell_type": "code",
   "execution_count": null,
   "metadata": {},
   "outputs": [],
   "source": [
    "* summary stats for ROA and CEOpay showing median, skewness and kurtosis\n",
    "sum l1_roa ceopay, detail"
   ]
  },
  {
   "cell_type": "code",
   "execution_count": null,
   "metadata": {},
   "outputs": [],
   "source": [
    "* show the number of observations in each ff12 industry\n",
    "tab ff12"
   ]
  },
  {
   "cell_type": "code",
   "execution_count": null,
   "metadata": {},
   "outputs": [],
   "source": [
    "* summary stats for ROA and CEOpay only of the finance industry\n",
    "sum l1_roa ceopay if ff12==“Finance”"
   ]
  },
  {
   "cell_type": "markdown",
   "metadata": {},
   "source": [
    "# Solved Problem: Generate variables\n",
    "\n",
    "Apply gen, replace and egen to create new variables."
   ]
  },
  {
   "cell_type": "code",
   "execution_count": null,
   "metadata": {},
   "outputs": [],
   "source": [
    "* generate a new dummy variable called PositiveROA, \n",
    "* which is equal to 1 if ROA is strictly greater than 0 and equal to 0 otherwise\n",
    "generate PositiveROA = 1 if l1_roa > 0 & l1_roa <.\n",
    "replace PositiveROA = 0 if l1_roa >= 0 & l1_roa <."
   ]
  },
  {
   "cell_type": "code",
   "execution_count": null,
   "metadata": {},
   "outputs": [],
   "source": [
    "* generate a new dummy variable called PositiveROAcond, defined as above using the function cond()\n",
    "gen PositiveROAcond = cond(l1_roa > 0 & l1_roa <.,1,0)"
   ]
  },
  {
   "cell_type": "markdown",
   "metadata": {},
   "source": [
    "How do PositiveROA and PositiveROAcond differ?"
   ]
  },
  {
   "cell_type": "markdown",
   "metadata": {},
   "source": [
    "# Solved Problem: Simple regression"
   ]
  },
  {
   "cell_type": "code",
   "execution_count": null,
   "metadata": {},
   "outputs": [],
   "source": [
    "* keep only observations where l1_roa and ceopay are not missing\n",
    "keep if l1_roa <. & ceopay <."
   ]
  },
  {
   "cell_type": "code",
   "execution_count": null,
   "metadata": {},
   "outputs": [],
   "source": [
    "* instal the user-written command winsor\n",
    "ssc install winsor"
   ]
  },
  {
   "cell_type": "code",
   "execution_count": null,
   "metadata": {},
   "outputs": [],
   "source": [
    "* winsorise l1_roa and lnceopay at 1% and 99%; name the new variables by adding the suffix _w\n",
    "winsor l1_roa, gen(l1_roa_w) p(0.01)\n",
    "winsor lnceopay, gen(lnceopay_w) p(0.01)"
   ]
  },
  {
   "cell_type": "code",
   "execution_count": null,
   "metadata": {},
   "outputs": [],
   "source": [
    "* regress the winsorised natural log of ceopay on ROA\n",
    "reg lnceopay_w l1_roa_w"
   ]
  },
  {
   "cell_type": "code",
   "execution_count": null,
   "metadata": {},
   "outputs": [],
   "source": [
    "* run a new regression as the one above but add the control variable size\n",
    "* winsorise it first and use l1_lnta (Log of total assets)\n",
    "winsor l1_lnta, gen(l1_lnta_w) p(0.01)\n",
    "reg lnceopay_w l1_roa_w l1_lnta_w"
   ]
  },
  {
   "cell_type": "markdown",
   "metadata": {},
   "source": [
    "# Solved Problem: Graph of a simple regression"
   ]
  },
  {
   "cell_type": "code",
   "execution_count": null,
   "metadata": {
    "scrolled": true
   },
   "outputs": [],
   "source": [
    "* plot the data\n",
    "scatter lnceopay_w l1_roa_w"
   ]
  },
  {
   "cell_type": "code",
   "execution_count": null,
   "metadata": {},
   "outputs": [],
   "source": [
    "* plot the data and the linear fit\n",
    "scatter lnceopay_w l1_roa_w || lfit lnceopay_w l1_roa_w"
   ]
  },
  {
   "cell_type": "code",
   "execution_count": null,
   "metadata": {},
   "outputs": [],
   "source": [
    "* plot the data and the linear fit plus additonal tweaks to the way the graph is displayed\n",
    "scatter lnceopay_w l1_roa_w || lfit lnceopay_w l1_roa_w , title(\"Data and linear fit of CEO Pay on ROA\") legend(off) ytitle(\"Ln CEO Pay winsorised\") xtitle(\"Lagged ROA winsorised\")"
   ]
  },
  {
   "cell_type": "code",
   "execution_count": null,
   "metadata": {},
   "outputs": [],
   "source": []
  }
 ],
 "metadata": {
  "kernelspec": {
   "display_name": "Stata",
   "language": "stata",
   "name": "stata"
  },
  "language_info": {
   "codemirror_mode": "stata",
   "file_extension": ".do",
   "mimetype": "text/x-stata",
   "name": "stata"
  }
 },
 "nbformat": 4,
 "nbformat_minor": 4
}
